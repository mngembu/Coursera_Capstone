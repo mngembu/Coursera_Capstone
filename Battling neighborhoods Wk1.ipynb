{
 "cells": [
  {
   "cell_type": "markdown",
   "metadata": {},
   "source": [
    "# Coursera Capstone Project - The Battle of Neighborhoods - Week1"
   ]
  },
  {
   "cell_type": "markdown",
   "metadata": {},
   "source": [
    "## A. Introduction"
   ]
  },
  {
   "cell_type": "markdown",
   "metadata": {},
   "source": [
    "### A.1. Background and Problem Description"
   ]
  },
  {
   "cell_type": "markdown",
   "metadata": {},
   "source": [
    "Edmonton, capital of Canada's Alberta province, sits on the North Saskatchewan River. The city had a population of 932,546 in 2016, making it Alberta's second-largest city and Canada's fifth-largest municipality. Also in 2016, Edmonton had a metropolitan population of 1,321,426, making it the sixth-largest census metropolitan area (CMA) in Canada. Edmonton is North America's northernmost metropolitan area with a present population over one million. Since I am a resident of Edmonton, I decided to use Edmonton as the research city in my project.\n",
    "\n",
    "Due to cultural diversity that has been fueled by Canada's generous immigration policies, Edmonton is highly multicultural; more so because Edmonton is the major economic centre for the oil and gas industry. These provide favourable grounds for business opportunities, thus a highly competitive market. So, a careful analysis has to be carried out in order to make informed decisions on starting a new business here. Information derived from this analysis will provide deep knowledge of the neighborhoods that have a competitive edge. The target audience for this analysis are investors who are seeking to start a restaurant business in Edmonton.\n",
    "\n",
    "Edmonton's cultural diversity also means the city is blessed with restaurants offering an array of international cuisines. In this very competitive market, a potential new restaurant, ABC Ltd is faced with this problem:\n",
    "Which neighbourhood will be the best location for the new restaurant? The best locations that will be considered here will be the ones that have relatively fewer restaurants, and better accessibility to raw materials (in this case, ingredients used for cooking).\n"
   ]
  },
  {
   "cell_type": "markdown",
   "metadata": {},
   "source": [
    "## B. Data"
   ]
  },
  {
   "cell_type": "markdown",
   "metadata": {},
   "source": [
    "Based on the problem, the following data will be used to solve the problem:\n",
    "\n",
    "- List of all neighbourhoods in Edmonton. This will be retrieved from Canada's geonames data available online on geonames.org. This data will be useful in this analysis in that it will give a big picture of all neighbourhoods available to explore.\n",
    "- The coorninates of the neighbourhoods and venues which will be retreived from thesame geonames data. This will be used to map the location of the venues.\n",
    "- The to 10 Venues of all Edmonton neighbourhoods. This will be retrieved form the FourSquare location data. This data will be used to cluster neighbourhoods into groups.\n",
    "\n"
   ]
  },
  {
   "cell_type": "code",
   "execution_count": null,
   "metadata": {},
   "outputs": [],
   "source": []
  }
 ],
 "metadata": {
  "kernelspec": {
   "display_name": "Python",
   "language": "python",
   "name": "conda-env-python-py"
  },
  "language_info": {
   "codemirror_mode": {
    "name": "ipython",
    "version": 3
   },
   "file_extension": ".py",
   "mimetype": "text/x-python",
   "name": "python",
   "nbconvert_exporter": "python",
   "pygments_lexer": "ipython3",
   "version": "3.6.7"
  }
 },
 "nbformat": 4,
 "nbformat_minor": 4
}
